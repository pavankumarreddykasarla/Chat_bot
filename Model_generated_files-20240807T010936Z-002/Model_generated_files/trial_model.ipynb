{
 "cells": [
  {
   "cell_type": "code",
   "execution_count": 1,
   "id": "3f0f3475-80d2-4744-aac7-8b3977198304",
   "metadata": {},
   "outputs": [
    {
     "name": "stdout",
     "output_type": "stream",
     "text": [
      "Requirement already satisfied: accelerate==0.21.0 in /usr/local/lib/python3.11/dist-packages (0.21.0)\n",
      "Requirement already satisfied: numpy>=1.17 in /usr/local/lib/python3.11/dist-packages (from accelerate==0.21.0) (1.26.2)\n",
      "Requirement already satisfied: packaging>=20.0 in /usr/local/lib/python3.11/dist-packages (from accelerate==0.21.0) (23.2)\n",
      "Requirement already satisfied: psutil in /usr/local/lib/python3.11/dist-packages (from accelerate==0.21.0) (5.9.0)\n",
      "Requirement already satisfied: pyyaml in /usr/local/lib/python3.11/dist-packages (from accelerate==0.21.0) (6.0.1)\n",
      "Requirement already satisfied: torch>=1.10.0 in /usr/local/lib/python3.11/dist-packages (from accelerate==0.21.0) (2.1.2)\n",
      "Requirement already satisfied: filelock in /usr/local/lib/python3.11/dist-packages (from torch>=1.10.0->accelerate==0.21.0) (3.13.1)\n",
      "Requirement already satisfied: typing-extensions in /usr/local/lib/python3.11/dist-packages (from torch>=1.10.0->accelerate==0.21.0) (4.11.0)\n",
      "Requirement already satisfied: sympy in /usr/local/lib/python3.11/dist-packages (from torch>=1.10.0->accelerate==0.21.0) (1.12)\n",
      "Requirement already satisfied: networkx in /usr/local/lib/python3.11/dist-packages (from torch>=1.10.0->accelerate==0.21.0) (3.1)\n",
      "Requirement already satisfied: jinja2 in /usr/local/lib/python3.11/dist-packages (from torch>=1.10.0->accelerate==0.21.0) (3.1.2)\n",
      "Requirement already satisfied: fsspec in /usr/local/lib/python3.11/dist-packages (from torch>=1.10.0->accelerate==0.21.0) (2023.9.2)\n",
      "Requirement already satisfied: nvidia-cuda-nvrtc-cu12==12.1.105 in /usr/local/lib/python3.11/dist-packages (from torch>=1.10.0->accelerate==0.21.0) (12.1.105)\n",
      "Requirement already satisfied: nvidia-cuda-runtime-cu12==12.1.105 in /usr/local/lib/python3.11/dist-packages (from torch>=1.10.0->accelerate==0.21.0) (12.1.105)\n",
      "Requirement already satisfied: nvidia-cuda-cupti-cu12==12.1.105 in /usr/local/lib/python3.11/dist-packages (from torch>=1.10.0->accelerate==0.21.0) (12.1.105)\n",
      "Requirement already satisfied: nvidia-cudnn-cu12==8.9.2.26 in /usr/local/lib/python3.11/dist-packages (from torch>=1.10.0->accelerate==0.21.0) (8.9.2.26)\n",
      "Requirement already satisfied: nvidia-cublas-cu12==12.1.3.1 in /usr/local/lib/python3.11/dist-packages (from torch>=1.10.0->accelerate==0.21.0) (12.1.3.1)\n",
      "Requirement already satisfied: nvidia-cufft-cu12==11.0.2.54 in /usr/local/lib/python3.11/dist-packages (from torch>=1.10.0->accelerate==0.21.0) (11.0.2.54)\n",
      "Requirement already satisfied: nvidia-curand-cu12==10.3.2.106 in /usr/local/lib/python3.11/dist-packages (from torch>=1.10.0->accelerate==0.21.0) (10.3.2.106)\n",
      "Requirement already satisfied: nvidia-cusolver-cu12==11.4.5.107 in /usr/local/lib/python3.11/dist-packages (from torch>=1.10.0->accelerate==0.21.0) (11.4.5.107)\n",
      "Requirement already satisfied: nvidia-cusparse-cu12==12.1.0.106 in /usr/local/lib/python3.11/dist-packages (from torch>=1.10.0->accelerate==0.21.0) (12.1.0.106)\n",
      "Requirement already satisfied: nvidia-nccl-cu12==2.18.1 in /usr/local/lib/python3.11/dist-packages (from torch>=1.10.0->accelerate==0.21.0) (2.18.1)\n",
      "Requirement already satisfied: nvidia-nvtx-cu12==12.1.105 in /usr/local/lib/python3.11/dist-packages (from torch>=1.10.0->accelerate==0.21.0) (12.1.105)\n",
      "Requirement already satisfied: triton==2.1.0 in /usr/local/lib/python3.11/dist-packages (from torch>=1.10.0->accelerate==0.21.0) (2.1.0)\n",
      "Requirement already satisfied: nvidia-nvjitlink-cu12 in /usr/local/lib/python3.11/dist-packages (from nvidia-cusolver-cu12==11.4.5.107->torch>=1.10.0->accelerate==0.21.0) (12.4.127)\n",
      "Requirement already satisfied: MarkupSafe>=2.0 in /usr/local/lib/python3.11/dist-packages (from jinja2->torch>=1.10.0->accelerate==0.21.0) (2.1.3)\n",
      "Requirement already satisfied: mpmath>=0.19 in /usr/local/lib/python3.11/dist-packages (from sympy->torch>=1.10.0->accelerate==0.21.0) (1.3.0)\n",
      "\u001b[33mWARNING: Running pip as the 'root' user can result in broken permissions and conflicting behaviour with the system package manager. It is recommended to use a virtual environment instead: https://pip.pypa.io/warnings/venv\u001b[0m\u001b[33m\n",
      "\u001b[0m\n",
      "\u001b[1m[\u001b[0m\u001b[34;49mnotice\u001b[0m\u001b[1;39;49m]\u001b[0m\u001b[39;49m A new release of pip is available: \u001b[0m\u001b[31;49m23.3.1\u001b[0m\u001b[39;49m -> \u001b[0m\u001b[32;49m24.0\u001b[0m\n",
      "\u001b[1m[\u001b[0m\u001b[34;49mnotice\u001b[0m\u001b[1;39;49m]\u001b[0m\u001b[39;49m To update, run: \u001b[0m\u001b[32;49mpython3 -m pip install --upgrade pip\u001b[0m\n"
     ]
    }
   ],
   "source": [
    "!pip install accelerate==0.21.0 "
   ]
  },
  {
   "cell_type": "code",
   "execution_count": 2,
   "id": "2d0ebc85-5f51-4932-8e9d-3441f17e4031",
   "metadata": {},
   "outputs": [
    {
     "name": "stdout",
     "output_type": "stream",
     "text": [
      "Requirement already satisfied: peft==0.4.0 in /usr/local/lib/python3.11/dist-packages (0.4.0)\n",
      "Requirement already satisfied: bitsandbytes==0.40.2 in /usr/local/lib/python3.11/dist-packages (0.40.2)\n",
      "Collecting transformers==4.31.0\n",
      "  Using cached transformers-4.31.0-py3-none-any.whl.metadata (116 kB)\n",
      "Requirement already satisfied: trl==0.4.7 in /usr/local/lib/python3.11/dist-packages (0.4.7)\n",
      "Requirement already satisfied: numpy>=1.17 in /usr/local/lib/python3.11/dist-packages (from peft==0.4.0) (1.26.2)\n",
      "Requirement already satisfied: packaging>=20.0 in /usr/local/lib/python3.11/dist-packages (from peft==0.4.0) (23.2)\n",
      "Requirement already satisfied: psutil in /usr/local/lib/python3.11/dist-packages (from peft==0.4.0) (5.9.0)\n",
      "Requirement already satisfied: pyyaml in /usr/local/lib/python3.11/dist-packages (from peft==0.4.0) (6.0.1)\n",
      "Requirement already satisfied: torch>=1.13.0 in /usr/local/lib/python3.11/dist-packages (from peft==0.4.0) (2.1.2)\n",
      "Requirement already satisfied: accelerate in /usr/local/lib/python3.11/dist-packages (from peft==0.4.0) (0.21.0)\n",
      "Requirement already satisfied: safetensors in /usr/local/lib/python3.11/dist-packages (from peft==0.4.0) (0.4.3)\n",
      "Requirement already satisfied: filelock in /usr/local/lib/python3.11/dist-packages (from transformers==4.31.0) (3.13.1)\n",
      "Requirement already satisfied: huggingface-hub<1.0,>=0.14.1 in /usr/local/lib/python3.11/dist-packages (from transformers==4.31.0) (0.23.0)\n",
      "Requirement already satisfied: regex!=2019.12.17 in /usr/local/lib/python3.11/dist-packages (from transformers==4.31.0) (2023.12.25)\n",
      "Requirement already satisfied: requests in /usr/local/lib/python3.11/dist-packages (from transformers==4.31.0) (2.31.0)\n",
      "Collecting tokenizers!=0.11.3,<0.14,>=0.11.1 (from transformers==4.31.0)\n",
      "  Using cached tokenizers-0.13.3-cp311-cp311-manylinux_2_17_x86_64.manylinux2014_x86_64.whl.metadata (6.7 kB)\n",
      "Requirement already satisfied: tqdm>=4.27 in /usr/local/lib/python3.11/dist-packages (from transformers==4.31.0) (4.65.0)\n",
      "Requirement already satisfied: datasets in /usr/local/lib/python3.11/dist-packages (from trl==0.4.7) (2.10.1)\n",
      "Requirement already satisfied: fsspec>=2023.5.0 in /usr/local/lib/python3.11/dist-packages (from huggingface-hub<1.0,>=0.14.1->transformers==4.31.0) (2023.9.2)\n",
      "Requirement already satisfied: typing-extensions>=3.7.4.3 in /usr/local/lib/python3.11/dist-packages (from huggingface-hub<1.0,>=0.14.1->transformers==4.31.0) (4.11.0)\n",
      "Requirement already satisfied: sympy in /usr/local/lib/python3.11/dist-packages (from torch>=1.13.0->peft==0.4.0) (1.12)\n",
      "Requirement already satisfied: networkx in /usr/local/lib/python3.11/dist-packages (from torch>=1.13.0->peft==0.4.0) (3.1)\n",
      "Requirement already satisfied: jinja2 in /usr/local/lib/python3.11/dist-packages (from torch>=1.13.0->peft==0.4.0) (3.1.2)\n",
      "Requirement already satisfied: nvidia-cuda-nvrtc-cu12==12.1.105 in /usr/local/lib/python3.11/dist-packages (from torch>=1.13.0->peft==0.4.0) (12.1.105)\n",
      "Requirement already satisfied: nvidia-cuda-runtime-cu12==12.1.105 in /usr/local/lib/python3.11/dist-packages (from torch>=1.13.0->peft==0.4.0) (12.1.105)\n",
      "Requirement already satisfied: nvidia-cuda-cupti-cu12==12.1.105 in /usr/local/lib/python3.11/dist-packages (from torch>=1.13.0->peft==0.4.0) (12.1.105)\n",
      "Requirement already satisfied: nvidia-cudnn-cu12==8.9.2.26 in /usr/local/lib/python3.11/dist-packages (from torch>=1.13.0->peft==0.4.0) (8.9.2.26)\n",
      "Requirement already satisfied: nvidia-cublas-cu12==12.1.3.1 in /usr/local/lib/python3.11/dist-packages (from torch>=1.13.0->peft==0.4.0) (12.1.3.1)\n",
      "Requirement already satisfied: nvidia-cufft-cu12==11.0.2.54 in /usr/local/lib/python3.11/dist-packages (from torch>=1.13.0->peft==0.4.0) (11.0.2.54)\n",
      "Requirement already satisfied: nvidia-curand-cu12==10.3.2.106 in /usr/local/lib/python3.11/dist-packages (from torch>=1.13.0->peft==0.4.0) (10.3.2.106)\n",
      "Requirement already satisfied: nvidia-cusolver-cu12==11.4.5.107 in /usr/local/lib/python3.11/dist-packages (from torch>=1.13.0->peft==0.4.0) (11.4.5.107)\n",
      "Requirement already satisfied: nvidia-cusparse-cu12==12.1.0.106 in /usr/local/lib/python3.11/dist-packages (from torch>=1.13.0->peft==0.4.0) (12.1.0.106)\n",
      "Requirement already satisfied: nvidia-nccl-cu12==2.18.1 in /usr/local/lib/python3.11/dist-packages (from torch>=1.13.0->peft==0.4.0) (2.18.1)\n",
      "Requirement already satisfied: nvidia-nvtx-cu12==12.1.105 in /usr/local/lib/python3.11/dist-packages (from torch>=1.13.0->peft==0.4.0) (12.1.105)\n",
      "Requirement already satisfied: triton==2.1.0 in /usr/local/lib/python3.11/dist-packages (from torch>=1.13.0->peft==0.4.0) (2.1.0)\n",
      "Requirement already satisfied: nvidia-nvjitlink-cu12 in /usr/local/lib/python3.11/dist-packages (from nvidia-cusolver-cu12==11.4.5.107->torch>=1.13.0->peft==0.4.0) (12.4.127)\n",
      "Requirement already satisfied: pyarrow>=6.0.0 in /usr/local/lib/python3.11/dist-packages (from datasets->trl==0.4.7) (15.0.2)\n",
      "Requirement already satisfied: dill<0.3.7,>=0.3.0 in /usr/local/lib/python3.11/dist-packages (from datasets->trl==0.4.7) (0.3.6)\n",
      "Requirement already satisfied: pandas in /usr/local/lib/python3.11/dist-packages (from datasets->trl==0.4.7) (2.2.2)\n",
      "Requirement already satisfied: xxhash in /usr/local/lib/python3.11/dist-packages (from datasets->trl==0.4.7) (3.4.1)\n",
      "Requirement already satisfied: multiprocess in /usr/local/lib/python3.11/dist-packages (from datasets->trl==0.4.7) (0.70.14)\n",
      "Requirement already satisfied: aiohttp in /usr/local/lib/python3.11/dist-packages (from datasets->trl==0.4.7) (3.9.4)\n",
      "Requirement already satisfied: responses<0.19 in /usr/local/lib/python3.11/dist-packages (from datasets->trl==0.4.7) (0.18.0)\n",
      "Requirement already satisfied: charset-normalizer<4,>=2 in /usr/local/lib/python3.11/dist-packages (from requests->transformers==4.31.0) (2.0.4)\n",
      "Requirement already satisfied: idna<4,>=2.5 in /usr/local/lib/python3.11/dist-packages (from requests->transformers==4.31.0) (3.4)\n",
      "Requirement already satisfied: urllib3<3,>=1.21.1 in /usr/local/lib/python3.11/dist-packages (from requests->transformers==4.31.0) (2.2.1)\n",
      "Requirement already satisfied: certifi>=2017.4.17 in /usr/local/lib/python3.11/dist-packages (from requests->transformers==4.31.0) (2023.11.17)\n",
      "Requirement already satisfied: aiosignal>=1.1.2 in /usr/local/lib/python3.11/dist-packages (from aiohttp->datasets->trl==0.4.7) (1.3.1)\n",
      "Requirement already satisfied: attrs>=17.3.0 in /usr/local/lib/python3.11/dist-packages (from aiohttp->datasets->trl==0.4.7) (23.1.0)\n",
      "Requirement already satisfied: frozenlist>=1.1.1 in /usr/local/lib/python3.11/dist-packages (from aiohttp->datasets->trl==0.4.7) (1.4.1)\n",
      "Requirement already satisfied: multidict<7.0,>=4.5 in /usr/local/lib/python3.11/dist-packages (from aiohttp->datasets->trl==0.4.7) (6.0.5)\n",
      "Requirement already satisfied: yarl<2.0,>=1.0 in /usr/local/lib/python3.11/dist-packages (from aiohttp->datasets->trl==0.4.7) (1.9.4)\n",
      "Requirement already satisfied: MarkupSafe>=2.0 in /usr/local/lib/python3.11/dist-packages (from jinja2->torch>=1.13.0->peft==0.4.0) (2.1.3)\n",
      "Requirement already satisfied: python-dateutil>=2.8.2 in /usr/local/lib/python3.11/dist-packages (from pandas->datasets->trl==0.4.7) (2.8.2)\n",
      "Requirement already satisfied: pytz>=2020.1 in /usr/local/lib/python3.11/dist-packages (from pandas->datasets->trl==0.4.7) (2023.3.post1)\n",
      "Requirement already satisfied: tzdata>=2022.7 in /usr/local/lib/python3.11/dist-packages (from pandas->datasets->trl==0.4.7) (2024.1)\n",
      "Requirement already satisfied: mpmath>=0.19 in /usr/local/lib/python3.11/dist-packages (from sympy->torch>=1.13.0->peft==0.4.0) (1.3.0)\n",
      "Requirement already satisfied: six>=1.5 in /usr/lib/python3/dist-packages (from python-dateutil>=2.8.2->pandas->datasets->trl==0.4.7) (1.16.0)\n",
      "Using cached transformers-4.31.0-py3-none-any.whl (7.4 MB)\n",
      "Using cached tokenizers-0.13.3-cp311-cp311-manylinux_2_17_x86_64.manylinux2014_x86_64.whl (7.8 MB)\n",
      "Installing collected packages: tokenizers, transformers\n",
      "  Attempting uninstall: tokenizers\n",
      "    Found existing installation: tokenizers 0.19.1\n",
      "    Uninstalling tokenizers-0.19.1:\n",
      "      Successfully uninstalled tokenizers-0.19.1\n",
      "  Attempting uninstall: transformers\n",
      "    Found existing installation: transformers 4.40.2\n",
      "    Uninstalling transformers-4.40.2:\n",
      "      Successfully uninstalled transformers-4.40.2\n",
      "\u001b[31mERROR: pip's dependency resolver does not currently take into account all the packages that are installed. This behaviour is the source of the following dependency conflicts.\n",
      "sentence-transformers 2.7.0 requires transformers<5.0.0,>=4.34.0, but you have transformers 4.31.0 which is incompatible.\u001b[0m\u001b[31m\n",
      "\u001b[0mSuccessfully installed tokenizers-0.13.3 transformers-4.31.0\n",
      "\u001b[33mWARNING: Running pip as the 'root' user can result in broken permissions and conflicting behaviour with the system package manager. It is recommended to use a virtual environment instead: https://pip.pypa.io/warnings/venv\u001b[0m\u001b[33m\n",
      "\u001b[0m\n",
      "\u001b[1m[\u001b[0m\u001b[34;49mnotice\u001b[0m\u001b[1;39;49m]\u001b[0m\u001b[39;49m A new release of pip is available: \u001b[0m\u001b[31;49m23.3.1\u001b[0m\u001b[39;49m -> \u001b[0m\u001b[32;49m24.0\u001b[0m\n",
      "\u001b[1m[\u001b[0m\u001b[34;49mnotice\u001b[0m\u001b[1;39;49m]\u001b[0m\u001b[39;49m To update, run: \u001b[0m\u001b[32;49mpython3 -m pip install --upgrade pip\u001b[0m\n"
     ]
    }
   ],
   "source": [
    "!pip install peft==0.4.0 bitsandbytes==0.40.2 transformers==4.31.0 trl==0.4.7 "
   ]
  },
  {
   "cell_type": "code",
   "execution_count": 3,
   "id": "83e9ba26-177e-4dab-9334-fc8154656ce3",
   "metadata": {},
   "outputs": [
    {
     "name": "stdout",
     "output_type": "stream",
     "text": [
      "Collecting bitsandbytes==0.41.2 (from -r requirements.txt (line 1))\n",
      "  Using cached bitsandbytes-0.41.2-py3-none-any.whl.metadata (9.8 kB)\n",
      "Collecting transformers==4.35.0 (from -r requirements.txt (line 2))\n",
      "  Using cached transformers-4.35.0-py3-none-any.whl.metadata (123 kB)\n",
      "Collecting peft==0.6.0 (from -r requirements.txt (line 3))\n",
      "  Using cached peft-0.6.0-py3-none-any.whl.metadata (23 kB)\n",
      "Collecting accelerate==0.25.0 (from -r requirements.txt (line 4))\n",
      "  Using cached accelerate-0.25.0-py3-none-any.whl.metadata (18 kB)\n",
      "Requirement already satisfied: einops==0.6.1 in /usr/local/lib/python3.11/dist-packages (from -r requirements.txt (line 5)) (0.6.1)\n",
      "Requirement already satisfied: evaluate==0.4.0 in /usr/local/lib/python3.11/dist-packages (from -r requirements.txt (line 6)) (0.4.0)\n",
      "Requirement already satisfied: scikit-learn==1.2.2 in /usr/local/lib/python3.11/dist-packages (from -r requirements.txt (line 7)) (1.2.2)\n",
      "Requirement already satisfied: sentencepiece==0.1.99 in /usr/local/lib/python3.11/dist-packages (from -r requirements.txt (line 8)) (0.1.99)\n",
      "Requirement already satisfied: wandb==0.15.3 in /usr/local/lib/python3.11/dist-packages (from -r requirements.txt (line 9)) (0.15.3)\n",
      "Requirement already satisfied: pydantic==1.10.10 in /usr/local/lib/python3.11/dist-packages (from -r requirements.txt (line 10)) (1.10.10)\n",
      "Requirement already satisfied: kaleido==0.2.1 in /usr/local/lib/python3.11/dist-packages (from -r requirements.txt (line 11)) (0.2.1)\n",
      "Requirement already satisfied: cohere==5.1.8 in /usr/local/lib/python3.11/dist-packages (from -r requirements.txt (line 12)) (5.1.8)\n",
      "Requirement already satisfied: openai==1.5.0 in /usr/local/lib/python3.11/dist-packages (from -r requirements.txt (line 13)) (1.5.0)\n",
      "Requirement already satisfied: tiktoken==0.5.1 in /usr/local/lib/python3.11/dist-packages (from -r requirements.txt (line 14)) (0.5.1)\n",
      "Collecting typing-extensions==4.5.0 (from -r requirements.txt (line 15))\n",
      "  Using cached typing_extensions-4.5.0-py3-none-any.whl.metadata (8.5 kB)\n",
      "Requirement already satisfied: gradio==3.50.2 in /usr/local/lib/python3.11/dist-packages (from -r requirements.txt (line 16)) (3.50.2)\n",
      "Collecting tokenizers==0.14.1 (from -r requirements.txt (line 17))\n",
      "  Using cached tokenizers-0.14.1-cp311-cp311-manylinux_2_17_x86_64.manylinux2014_x86_64.whl.metadata (6.7 kB)\n",
      "Collecting trl==0.8.3 (from -r requirements.txt (line 18))\n",
      "  Using cached trl-0.8.3-py3-none-any.whl.metadata (11 kB)\n",
      "Requirement already satisfied: cuda-python==12.4.0 in /usr/local/lib/python3.11/dist-packages (from -r requirements.txt (line 19)) (12.4.0)\n",
      "Requirement already satisfied: rouge-score==0.1.2 in /usr/local/lib/python3.11/dist-packages (from -r requirements.txt (line 20)) (0.1.2)\n",
      "Requirement already satisfied: datasets==2.10.1 in /usr/local/lib/python3.11/dist-packages (from -r requirements.txt (line 21)) (2.10.1)\n",
      "Requirement already satisfied: fsspec==2023.9.2 in /usr/local/lib/python3.11/dist-packages (from -r requirements.txt (line 22)) (2023.9.2)\n",
      "Requirement already satisfied: filelock==3.13.1 in /usr/local/lib/python3.11/dist-packages (from -r requirements.txt (line 23)) (3.13.1)\n",
      "Collecting huggingface-hub==0.17.3 (from -r requirements.txt (line 24))\n",
      "  Using cached huggingface_hub-0.17.3-py3-none-any.whl.metadata (13 kB)\n",
      "Requirement already satisfied: numpy==1.26.2 in /usr/local/lib/python3.11/dist-packages (from -r requirements.txt (line 25)) (1.26.2)\n",
      "Collecting packaging==23.1 (from -r requirements.txt (line 26))\n",
      "  Using cached packaging-23.1-py3-none-any.whl.metadata (3.1 kB)\n",
      "Requirement already satisfied: pyyaml==6.0.1 in /usr/local/lib/python3.11/dist-packages (from -r requirements.txt (line 27)) (6.0.1)\n",
      "Requirement already satisfied: regex==2023.12.25 in /usr/local/lib/python3.11/dist-packages (from -r requirements.txt (line 28)) (2023.12.25)\n",
      "Requirement already satisfied: requests==2.31.0 in /usr/local/lib/python3.11/dist-packages (from -r requirements.txt (line 29)) (2.31.0)\n",
      "Requirement already satisfied: safetensors==0.4.3 in /usr/local/lib/python3.11/dist-packages (from -r requirements.txt (line 30)) (0.4.3)\n",
      "Requirement already satisfied: tqdm==4.65.0 in /usr/local/lib/python3.11/dist-packages (from -r requirements.txt (line 31)) (4.65.0)\n",
      "Requirement already satisfied: psutil==5.9.0 in /usr/local/lib/python3.11/dist-packages (from -r requirements.txt (line 32)) (5.9.0)\n",
      "Requirement already satisfied: torch==2.1.2 in /usr/local/lib/python3.11/dist-packages (from -r requirements.txt (line 33)) (2.1.2)\n",
      "Requirement already satisfied: dill==0.3.6 in /usr/local/lib/python3.11/dist-packages (from -r requirements.txt (line 34)) (0.3.6)\n",
      "Requirement already satisfied: pandas==2.2.2 in /usr/local/lib/python3.11/dist-packages (from -r requirements.txt (line 35)) (2.2.2)\n",
      "Requirement already satisfied: xxhash==3.4.1 in /usr/local/lib/python3.11/dist-packages (from -r requirements.txt (line 36)) (3.4.1)\n",
      "Requirement already satisfied: multiprocess==0.70.14 in /usr/local/lib/python3.11/dist-packages (from -r requirements.txt (line 37)) (0.70.14)\n",
      "Requirement already satisfied: responses==0.18.0 in /usr/local/lib/python3.11/dist-packages (from -r requirements.txt (line 38)) (0.18.0)\n",
      "Requirement already satisfied: scipy==1.13.0 in /usr/local/lib/python3.11/dist-packages (from -r requirements.txt (line 39)) (1.13.0)\n",
      "Requirement already satisfied: joblib==1.4.0 in /usr/local/lib/python3.11/dist-packages (from -r requirements.txt (line 40)) (1.4.0)\n",
      "Requirement already satisfied: threadpoolctl==3.4.0 in /usr/local/lib/python3.11/dist-packages (from -r requirements.txt (line 41)) (3.4.0)\n",
      "Requirement already satisfied: Click==8.1.7 in /usr/local/lib/python3.11/dist-packages (from -r requirements.txt (line 42)) (8.1.7)\n",
      "Requirement already satisfied: GitPython==3.1.43 in /usr/local/lib/python3.11/dist-packages (from -r requirements.txt (line 43)) (3.1.43)\n",
      "Requirement already satisfied: sentry-sdk==1.45.0 in /usr/local/lib/python3.11/dist-packages (from -r requirements.txt (line 44)) (1.45.0)\n",
      "Requirement already satisfied: docker-pycreds==0.4.0 in /usr/local/lib/python3.11/dist-packages (from -r requirements.txt (line 45)) (0.4.0)\n",
      "Requirement already satisfied: pathtools==0.1.2 in /usr/local/lib/python3.11/dist-packages (from -r requirements.txt (line 46)) (0.1.2)\n",
      "Requirement already satisfied: setproctitle==1.3.3 in /usr/local/lib/python3.11/dist-packages (from -r requirements.txt (line 47)) (1.3.3)\n",
      "Requirement already satisfied: setuptools==68.2.2 in /usr/local/lib/python3.11/dist-packages (from -r requirements.txt (line 48)) (68.2.2)\n",
      "Requirement already satisfied: appdirs==1.4.4 in /usr/local/lib/python3.11/dist-packages (from -r requirements.txt (line 49)) (1.4.4)\n",
      "Requirement already satisfied: protobuf==4.25.3 in /usr/local/lib/python3.11/dist-packages (from -r requirements.txt (line 50)) (4.25.3)\n",
      "Requirement already satisfied: pyarrow==15.0.2 in /usr/local/lib/python3.11/dist-packages (from -r requirements.txt (line 51)) (15.0.2)\n",
      "Requirement already satisfied: aiohttp==3.9.4 in /usr/local/lib/python3.11/dist-packages (from -r requirements.txt (line 52)) (3.9.4)\n",
      "Requirement already satisfied: fastavro==1.9.4 in /usr/local/lib/python3.11/dist-packages (from -r requirements.txt (line 53)) (1.9.4)\n",
      "Requirement already satisfied: httpx==0.27.0 in /usr/local/lib/python3.11/dist-packages (from -r requirements.txt (line 54)) (0.27.0)\n",
      "Requirement already satisfied: anyio==3.7.1 in /usr/local/lib/python3.11/dist-packages (from -r requirements.txt (line 55)) (3.7.1)\n",
      "Requirement already satisfied: distro==1.8.0 in /usr/local/lib/python3.11/dist-packages (from -r requirements.txt (line 56)) (1.8.0)\n",
      "Requirement already satisfied: sniffio==1.3.0 in /usr/local/lib/python3.11/dist-packages (from -r requirements.txt (line 57)) (1.3.0)\n",
      "Requirement already satisfied: aiofiles==23.2.1 in /usr/local/lib/python3.11/dist-packages (from -r requirements.txt (line 58)) (23.2.1)\n",
      "Requirement already satisfied: altair==5.3.0 in /usr/local/lib/python3.11/dist-packages (from -r requirements.txt (line 59)) (5.3.0)\n",
      "Requirement already satisfied: fastapi==0.103.2 in /usr/local/lib/python3.11/dist-packages (from -r requirements.txt (line 60)) (0.103.2)\n",
      "Requirement already satisfied: ffmpy==0.3.2 in /usr/local/lib/python3.11/dist-packages (from -r requirements.txt (line 61)) (0.3.2)\n",
      "Requirement already satisfied: gradio-client==0.6.1 in /usr/local/lib/python3.11/dist-packages (from -r requirements.txt (line 62)) (0.6.1)\n",
      "Requirement already satisfied: importlib-resources==6.4.0 in /usr/local/lib/python3.11/dist-packages (from -r requirements.txt (line 63)) (6.4.0)\n",
      "Requirement already satisfied: jinja2==3.1.2 in /usr/local/lib/python3.11/dist-packages (from -r requirements.txt (line 64)) (3.1.2)\n",
      "Requirement already satisfied: matplotlib==3.8.4 in /usr/local/lib/python3.11/dist-packages (from -r requirements.txt (line 65)) (3.8.4)\n",
      "Requirement already satisfied: orjson==3.10.0 in /usr/local/lib/python3.11/dist-packages (from -r requirements.txt (line 66)) (3.10.0)\n",
      "Requirement already satisfied: pillow==10.0.1 in /usr/local/lib/python3.11/dist-packages (from -r requirements.txt (line 67)) (10.0.1)\n",
      "Requirement already satisfied: pydub==0.25.1 in /usr/local/lib/python3.11/dist-packages (from -r requirements.txt (line 68)) (0.25.1)\n",
      "Requirement already satisfied: python-multipart==0.0.9 in /usr/local/lib/python3.11/dist-packages (from -r requirements.txt (line 69)) (0.0.9)\n",
      "Requirement already satisfied: semantic-version==2.10.0 in /usr/local/lib/python3.11/dist-packages (from -r requirements.txt (line 70)) (2.10.0)\n",
      "Requirement already satisfied: uvicorn==0.29.0 in /usr/local/lib/python3.11/dist-packages (from -r requirements.txt (line 71)) (0.29.0)\n",
      "Requirement already satisfied: websockets==11.0.3 in /usr/local/lib/python3.11/dist-packages (from -r requirements.txt (line 72)) (11.0.3)\n",
      "Requirement already satisfied: tyro==0.8.1 in /usr/local/lib/python3.11/dist-packages (from -r requirements.txt (line 73)) (0.8.1)\n",
      "Requirement already satisfied: absl-py==2.1.0 in /usr/local/lib/python3.11/dist-packages (from -r requirements.txt (line 74)) (2.1.0)\n",
      "Requirement already satisfied: nltk==3.8.1 in /usr/local/lib/python3.11/dist-packages (from -r requirements.txt (line 75)) (3.8.1)\n",
      "Requirement already satisfied: jsonschema==4.19.2 in /usr/local/lib/python3.11/dist-packages (from -r requirements.txt (line 76)) (4.19.2)\n",
      "Requirement already satisfied: toolz==0.12.0 in /usr/local/lib/python3.11/dist-packages (from -r requirements.txt (line 77)) (0.12.0)\n",
      "Requirement already satisfied: idna==3.4 in /usr/local/lib/python3.11/dist-packages (from -r requirements.txt (line 78)) (3.4)\n",
      "Requirement already satisfied: exceptiongroup==1.0.4 in /usr/local/lib/python3.11/dist-packages (from -r requirements.txt (line 79)) (1.0.4)\n",
      "Requirement already satisfied: aiosignal==1.3.1 in /usr/local/lib/python3.11/dist-packages (from -r requirements.txt (line 80)) (1.3.1)\n",
      "Requirement already satisfied: attrs==23.1.0 in /usr/local/lib/python3.11/dist-packages (from -r requirements.txt (line 81)) (23.1.0)\n",
      "Requirement already satisfied: frozenlist==1.4.1 in /usr/local/lib/python3.11/dist-packages (from -r requirements.txt (line 82)) (1.4.1)\n",
      "Requirement already satisfied: multidict==6.0.5 in /usr/local/lib/python3.11/dist-packages (from -r requirements.txt (line 83)) (6.0.5)\n",
      "Requirement already satisfied: yarl==1.9.4 in /usr/local/lib/python3.11/dist-packages (from -r requirements.txt (line 84)) (1.9.4)\n",
      "Requirement already satisfied: async-timeout==4.0.3 in /usr/local/lib/python3.11/dist-packages (from -r requirements.txt (line 85)) (4.0.3)\n",
      "Requirement already satisfied: gitdb==4.0.11 in /usr/local/lib/python3.11/dist-packages (from -r requirements.txt (line 86)) (4.0.11)\n",
      "Requirement already satisfied: certifi==2023.11.17 in /usr/local/lib/python3.11/dist-packages (from -r requirements.txt (line 87)) (2023.11.17)\n",
      "Requirement already satisfied: httpcore==1.0.5 in /usr/local/lib/python3.11/dist-packages (from -r requirements.txt (line 88)) (1.0.5)\n",
      "Requirement already satisfied: contourpy==1.2.1 in /usr/local/lib/python3.11/dist-packages (from -r requirements.txt (line 89)) (1.2.1)\n",
      "Requirement already satisfied: cycler==0.12.1 in /usr/local/lib/python3.11/dist-packages (from -r requirements.txt (line 90)) (0.12.1)\n",
      "Requirement already satisfied: fonttools==4.51.0 in /usr/local/lib/python3.11/dist-packages (from -r requirements.txt (line 91)) (4.51.0)\n",
      "Requirement already satisfied: kiwisolver==1.4.5 in /usr/local/lib/python3.11/dist-packages (from -r requirements.txt (line 92)) (1.4.5)\n",
      "Requirement already satisfied: pyparsing==3.1.2 in /usr/local/lib/python3.11/dist-packages (from -r requirements.txt (line 93)) (3.1.2)\n",
      "Requirement already satisfied: python-dateutil==2.8.2 in /usr/local/lib/python3.11/dist-packages (from -r requirements.txt (line 94)) (2.8.2)\n",
      "Requirement already satisfied: pytz==2023.3.post1 in /usr/local/lib/python3.11/dist-packages (from -r requirements.txt (line 95)) (2023.3.post1)\n",
      "Requirement already satisfied: tzdata==2024.1 in /usr/local/lib/python3.11/dist-packages (from -r requirements.txt (line 96)) (2024.1)\n",
      "Requirement already satisfied: charset-normalizer==2.0.4 in /usr/local/lib/python3.11/dist-packages (from -r requirements.txt (line 97)) (2.0.4)\n",
      "Requirement already satisfied: urllib3==2.2.1 in /usr/local/lib/python3.11/dist-packages (from -r requirements.txt (line 98)) (2.2.1)\n",
      "Requirement already satisfied: sympy==1.12 in /usr/local/lib/python3.11/dist-packages (from -r requirements.txt (line 99)) (1.12)\n",
      "Requirement already satisfied: networkx==3.1 in /usr/local/lib/python3.11/dist-packages (from -r requirements.txt (line 100)) (3.1)\n",
      "Requirement already satisfied: docstring-parser==0.16 in /usr/local/lib/python3.11/dist-packages (from -r requirements.txt (line 101)) (0.16)\n",
      "Requirement already satisfied: rich==13.7.1 in /usr/local/lib/python3.11/dist-packages (from -r requirements.txt (line 102)) (13.7.1)\n",
      "Requirement already satisfied: shtab==1.7.1 in /usr/local/lib/python3.11/dist-packages (from -r requirements.txt (line 103)) (1.7.1)\n",
      "Requirement already satisfied: starlette==0.27.0 in /usr/local/lib/python3.11/dist-packages (from -r requirements.txt (line 104)) (0.27.0)\n",
      "Requirement already satisfied: smmap==5.0.1 in /usr/local/lib/python3.11/dist-packages (from -r requirements.txt (line 105)) (5.0.1)\n",
      "Requirement already satisfied: jsonschema-specifications==2023.7.1 in /usr/local/lib/python3.11/dist-packages (from -r requirements.txt (line 106)) (2023.7.1)\n",
      "Requirement already satisfied: referencing==0.30.2 in /usr/local/lib/python3.11/dist-packages (from -r requirements.txt (line 107)) (0.30.2)\n",
      "Requirement already satisfied: rpds-py==0.10.6 in /usr/local/lib/python3.11/dist-packages (from -r requirements.txt (line 108)) (0.10.6)\n",
      "Requirement already satisfied: markdown-it-py==3.0.0 in /usr/local/lib/python3.11/dist-packages (from -r requirements.txt (line 109)) (3.0.0)\n",
      "Requirement already satisfied: pygments==2.15.1 in /usr/local/lib/python3.11/dist-packages (from -r requirements.txt (line 110)) (2.15.1)\n",
      "Requirement already satisfied: mpmath==1.3.0 in /usr/local/lib/python3.11/dist-packages (from -r requirements.txt (line 111)) (1.3.0)\n",
      "Requirement already satisfied: mdurl==0.1.2 in /usr/local/lib/python3.11/dist-packages (from -r requirements.txt (line 112)) (0.1.2)\n",
      "Requirement already satisfied: types-requests<3.0.0.0,>=2.31.0.20240311 in /usr/local/lib/python3.11/dist-packages (from cohere==5.1.8->-r requirements.txt (line 12)) (2.31.0.20240406)\n",
      "Requirement already satisfied: markupsafe~=2.0 in /usr/local/lib/python3.11/dist-packages (from gradio==3.50.2->-r requirements.txt (line 16)) (2.1.3)\n",
      "Requirement already satisfied: six>=1.14.0 in /usr/lib/python3/dist-packages (from rouge-score==0.1.2->-r requirements.txt (line 20)) (1.16.0)\n",
      "Requirement already satisfied: nvidia-cuda-nvrtc-cu12==12.1.105 in /usr/local/lib/python3.11/dist-packages (from torch==2.1.2->-r requirements.txt (line 33)) (12.1.105)\n",
      "Requirement already satisfied: nvidia-cuda-runtime-cu12==12.1.105 in /usr/local/lib/python3.11/dist-packages (from torch==2.1.2->-r requirements.txt (line 33)) (12.1.105)\n",
      "Requirement already satisfied: nvidia-cuda-cupti-cu12==12.1.105 in /usr/local/lib/python3.11/dist-packages (from torch==2.1.2->-r requirements.txt (line 33)) (12.1.105)\n",
      "Requirement already satisfied: nvidia-cudnn-cu12==8.9.2.26 in /usr/local/lib/python3.11/dist-packages (from torch==2.1.2->-r requirements.txt (line 33)) (8.9.2.26)\n",
      "Requirement already satisfied: nvidia-cublas-cu12==12.1.3.1 in /usr/local/lib/python3.11/dist-packages (from torch==2.1.2->-r requirements.txt (line 33)) (12.1.3.1)\n",
      "Requirement already satisfied: nvidia-cufft-cu12==11.0.2.54 in /usr/local/lib/python3.11/dist-packages (from torch==2.1.2->-r requirements.txt (line 33)) (11.0.2.54)\n",
      "Requirement already satisfied: nvidia-curand-cu12==10.3.2.106 in /usr/local/lib/python3.11/dist-packages (from torch==2.1.2->-r requirements.txt (line 33)) (10.3.2.106)\n",
      "Requirement already satisfied: nvidia-cusolver-cu12==11.4.5.107 in /usr/local/lib/python3.11/dist-packages (from torch==2.1.2->-r requirements.txt (line 33)) (11.4.5.107)\n",
      "Requirement already satisfied: nvidia-cusparse-cu12==12.1.0.106 in /usr/local/lib/python3.11/dist-packages (from torch==2.1.2->-r requirements.txt (line 33)) (12.1.0.106)\n",
      "Requirement already satisfied: nvidia-nccl-cu12==2.18.1 in /usr/local/lib/python3.11/dist-packages (from torch==2.1.2->-r requirements.txt (line 33)) (2.18.1)\n",
      "Requirement already satisfied: nvidia-nvtx-cu12==12.1.105 in /usr/local/lib/python3.11/dist-packages (from torch==2.1.2->-r requirements.txt (line 33)) (12.1.105)\n",
      "Requirement already satisfied: triton==2.1.0 in /usr/local/lib/python3.11/dist-packages (from torch==2.1.2->-r requirements.txt (line 33)) (2.1.0)\n",
      "Requirement already satisfied: h11>=0.8 in /usr/local/lib/python3.11/dist-packages (from uvicorn==0.29.0->-r requirements.txt (line 71)) (0.14.0)\n",
      "Requirement already satisfied: nvidia-nvjitlink-cu12 in /usr/local/lib/python3.11/dist-packages (from nvidia-cusolver-cu12==11.4.5.107->torch==2.1.2->-r requirements.txt (line 33)) (12.4.127)\n",
      "Using cached bitsandbytes-0.41.2-py3-none-any.whl (92.6 MB)\n",
      "Using cached transformers-4.35.0-py3-none-any.whl (7.9 MB)\n",
      "Using cached peft-0.6.0-py3-none-any.whl (134 kB)\n",
      "Using cached accelerate-0.25.0-py3-none-any.whl (265 kB)\n",
      "Using cached typing_extensions-4.5.0-py3-none-any.whl (27 kB)\n",
      "Using cached tokenizers-0.14.1-cp311-cp311-manylinux_2_17_x86_64.manylinux2014_x86_64.whl (3.8 MB)\n",
      "Using cached trl-0.8.3-py3-none-any.whl (244 kB)\n",
      "Using cached huggingface_hub-0.17.3-py3-none-any.whl (295 kB)\n",
      "Using cached packaging-23.1-py3-none-any.whl (48 kB)\n",
      "Installing collected packages: bitsandbytes, typing-extensions, packaging, huggingface-hub, tokenizers, transformers, accelerate, trl, peft\n",
      "  Attempting uninstall: bitsandbytes\n",
      "    Found existing installation: bitsandbytes 0.40.2\n",
      "    Uninstalling bitsandbytes-0.40.2:\n",
      "      Successfully uninstalled bitsandbytes-0.40.2\n",
      "  Attempting uninstall: typing-extensions\n",
      "    Found existing installation: typing_extensions 4.11.0\n",
      "    Uninstalling typing_extensions-4.11.0:\n",
      "      Successfully uninstalled typing_extensions-4.11.0\n",
      "  Attempting uninstall: packaging\n",
      "    Found existing installation: packaging 23.2\n",
      "    Uninstalling packaging-23.2:\n",
      "      Successfully uninstalled packaging-23.2\n",
      "  Attempting uninstall: huggingface-hub\n",
      "    Found existing installation: huggingface-hub 0.23.0\n",
      "    Uninstalling huggingface-hub-0.23.0:\n",
      "      Successfully uninstalled huggingface-hub-0.23.0\n",
      "  Attempting uninstall: tokenizers\n",
      "    Found existing installation: tokenizers 0.13.3\n",
      "    Uninstalling tokenizers-0.13.3:\n",
      "      Successfully uninstalled tokenizers-0.13.3\n",
      "  Attempting uninstall: transformers\n",
      "    Found existing installation: transformers 4.31.0\n",
      "    Uninstalling transformers-4.31.0:\n",
      "      Successfully uninstalled transformers-4.31.0\n",
      "  Attempting uninstall: accelerate\n",
      "    Found existing installation: accelerate 0.21.0\n",
      "    Uninstalling accelerate-0.21.0:\n",
      "      Successfully uninstalled accelerate-0.21.0\n",
      "  Attempting uninstall: trl\n",
      "    Found existing installation: trl 0.4.7\n",
      "    Uninstalling trl-0.4.7:\n",
      "      Successfully uninstalled trl-0.4.7\n",
      "  Attempting uninstall: peft\n",
      "    Found existing installation: peft 0.4.0\n",
      "    Uninstalling peft-0.4.0:\n",
      "      Successfully uninstalled peft-0.4.0\n",
      "\u001b[31mERROR: pip's dependency resolver does not currently take into account all the packages that are installed. This behaviour is the source of the following dependency conflicts.\n",
      "sqlalchemy 2.0.30 requires typing-extensions>=4.6.0, but you have typing-extensions 4.5.0 which is incompatible.\n",
      "langchain-core 0.1.52 requires packaging<24.0,>=23.2, but you have packaging 23.1 which is incompatible.\u001b[0m\u001b[31m\n",
      "\u001b[0mSuccessfully installed accelerate-0.25.0 bitsandbytes-0.41.2 huggingface-hub-0.17.3 packaging-23.1 peft-0.6.0 tokenizers-0.14.1 transformers-4.35.0 trl-0.8.3 typing-extensions-4.5.0\n",
      "\u001b[33mWARNING: Running pip as the 'root' user can result in broken permissions and conflicting behaviour with the system package manager. It is recommended to use a virtual environment instead: https://pip.pypa.io/warnings/venv\u001b[0m\u001b[33m\n",
      "\u001b[0m\n",
      "\u001b[1m[\u001b[0m\u001b[34;49mnotice\u001b[0m\u001b[1;39;49m]\u001b[0m\u001b[39;49m A new release of pip is available: \u001b[0m\u001b[31;49m23.3.1\u001b[0m\u001b[39;49m -> \u001b[0m\u001b[32;49m24.0\u001b[0m\n",
      "\u001b[1m[\u001b[0m\u001b[34;49mnotice\u001b[0m\u001b[1;39;49m]\u001b[0m\u001b[39;49m To update, run: \u001b[0m\u001b[32;49mpython3 -m pip install --upgrade pip\u001b[0m\n"
     ]
    }
   ],
   "source": [
    "!pip install -r requirements.txt"
   ]
  },
  {
   "cell_type": "code",
   "execution_count": 4,
   "id": "27bf34f7-285e-43e1-96e1-bc8f2e46b1ef",
   "metadata": {},
   "outputs": [
    {
     "name": "stdout",
     "output_type": "stream",
     "text": [
      "Requirement already satisfied: peft in /usr/local/lib/python3.11/dist-packages (0.6.0)\n",
      "Requirement already satisfied: numpy>=1.17 in /usr/local/lib/python3.11/dist-packages (from peft) (1.26.2)\n",
      "Requirement already satisfied: packaging>=20.0 in /usr/local/lib/python3.11/dist-packages (from peft) (23.1)\n",
      "Requirement already satisfied: psutil in /usr/local/lib/python3.11/dist-packages (from peft) (5.9.0)\n",
      "Requirement already satisfied: pyyaml in /usr/local/lib/python3.11/dist-packages (from peft) (6.0.1)\n",
      "Requirement already satisfied: torch>=1.13.0 in /usr/local/lib/python3.11/dist-packages (from peft) (2.1.2)\n",
      "Requirement already satisfied: transformers in /usr/local/lib/python3.11/dist-packages (from peft) (4.35.0)\n",
      "Requirement already satisfied: tqdm in /usr/local/lib/python3.11/dist-packages (from peft) (4.65.0)\n",
      "Requirement already satisfied: accelerate>=0.21.0 in /usr/local/lib/python3.11/dist-packages (from peft) (0.25.0)\n",
      "Requirement already satisfied: safetensors in /usr/local/lib/python3.11/dist-packages (from peft) (0.4.3)\n",
      "Requirement already satisfied: huggingface-hub in /usr/local/lib/python3.11/dist-packages (from accelerate>=0.21.0->peft) (0.17.3)\n",
      "Requirement already satisfied: filelock in /usr/local/lib/python3.11/dist-packages (from torch>=1.13.0->peft) (3.13.1)\n",
      "Requirement already satisfied: typing-extensions in /usr/local/lib/python3.11/dist-packages (from torch>=1.13.0->peft) (4.5.0)\n",
      "Requirement already satisfied: sympy in /usr/local/lib/python3.11/dist-packages (from torch>=1.13.0->peft) (1.12)\n",
      "Requirement already satisfied: networkx in /usr/local/lib/python3.11/dist-packages (from torch>=1.13.0->peft) (3.1)\n",
      "Requirement already satisfied: jinja2 in /usr/local/lib/python3.11/dist-packages (from torch>=1.13.0->peft) (3.1.2)\n",
      "Requirement already satisfied: fsspec in /usr/local/lib/python3.11/dist-packages (from torch>=1.13.0->peft) (2023.9.2)\n",
      "Requirement already satisfied: nvidia-cuda-nvrtc-cu12==12.1.105 in /usr/local/lib/python3.11/dist-packages (from torch>=1.13.0->peft) (12.1.105)\n",
      "Requirement already satisfied: nvidia-cuda-runtime-cu12==12.1.105 in /usr/local/lib/python3.11/dist-packages (from torch>=1.13.0->peft) (12.1.105)\n",
      "Requirement already satisfied: nvidia-cuda-cupti-cu12==12.1.105 in /usr/local/lib/python3.11/dist-packages (from torch>=1.13.0->peft) (12.1.105)\n",
      "Requirement already satisfied: nvidia-cudnn-cu12==8.9.2.26 in /usr/local/lib/python3.11/dist-packages (from torch>=1.13.0->peft) (8.9.2.26)\n",
      "Requirement already satisfied: nvidia-cublas-cu12==12.1.3.1 in /usr/local/lib/python3.11/dist-packages (from torch>=1.13.0->peft) (12.1.3.1)\n",
      "Requirement already satisfied: nvidia-cufft-cu12==11.0.2.54 in /usr/local/lib/python3.11/dist-packages (from torch>=1.13.0->peft) (11.0.2.54)\n",
      "Requirement already satisfied: nvidia-curand-cu12==10.3.2.106 in /usr/local/lib/python3.11/dist-packages (from torch>=1.13.0->peft) (10.3.2.106)\n",
      "Requirement already satisfied: nvidia-cusolver-cu12==11.4.5.107 in /usr/local/lib/python3.11/dist-packages (from torch>=1.13.0->peft) (11.4.5.107)\n",
      "Requirement already satisfied: nvidia-cusparse-cu12==12.1.0.106 in /usr/local/lib/python3.11/dist-packages (from torch>=1.13.0->peft) (12.1.0.106)\n",
      "Requirement already satisfied: nvidia-nccl-cu12==2.18.1 in /usr/local/lib/python3.11/dist-packages (from torch>=1.13.0->peft) (2.18.1)\n",
      "Requirement already satisfied: nvidia-nvtx-cu12==12.1.105 in /usr/local/lib/python3.11/dist-packages (from torch>=1.13.0->peft) (12.1.105)\n",
      "Requirement already satisfied: triton==2.1.0 in /usr/local/lib/python3.11/dist-packages (from torch>=1.13.0->peft) (2.1.0)\n",
      "Requirement already satisfied: nvidia-nvjitlink-cu12 in /usr/local/lib/python3.11/dist-packages (from nvidia-cusolver-cu12==11.4.5.107->torch>=1.13.0->peft) (12.4.127)\n",
      "Requirement already satisfied: regex!=2019.12.17 in /usr/local/lib/python3.11/dist-packages (from transformers->peft) (2023.12.25)\n",
      "Requirement already satisfied: requests in /usr/local/lib/python3.11/dist-packages (from transformers->peft) (2.31.0)\n",
      "Requirement already satisfied: tokenizers<0.15,>=0.14 in /usr/local/lib/python3.11/dist-packages (from transformers->peft) (0.14.1)\n",
      "Requirement already satisfied: MarkupSafe>=2.0 in /usr/local/lib/python3.11/dist-packages (from jinja2->torch>=1.13.0->peft) (2.1.3)\n",
      "Requirement already satisfied: charset-normalizer<4,>=2 in /usr/local/lib/python3.11/dist-packages (from requests->transformers->peft) (2.0.4)\n",
      "Requirement already satisfied: idna<4,>=2.5 in /usr/local/lib/python3.11/dist-packages (from requests->transformers->peft) (3.4)\n",
      "Requirement already satisfied: urllib3<3,>=1.21.1 in /usr/local/lib/python3.11/dist-packages (from requests->transformers->peft) (2.2.1)\n",
      "Requirement already satisfied: certifi>=2017.4.17 in /usr/local/lib/python3.11/dist-packages (from requests->transformers->peft) (2023.11.17)\n",
      "Requirement already satisfied: mpmath>=0.19 in /usr/local/lib/python3.11/dist-packages (from sympy->torch>=1.13.0->peft) (1.3.0)\n",
      "\u001b[33mWARNING: Running pip as the 'root' user can result in broken permissions and conflicting behaviour with the system package manager. It is recommended to use a virtual environment instead: https://pip.pypa.io/warnings/venv\u001b[0m\u001b[33m\n",
      "\u001b[0m\n",
      "\u001b[1m[\u001b[0m\u001b[34;49mnotice\u001b[0m\u001b[1;39;49m]\u001b[0m\u001b[39;49m A new release of pip is available: \u001b[0m\u001b[31;49m23.3.1\u001b[0m\u001b[39;49m -> \u001b[0m\u001b[32;49m24.0\u001b[0m\n",
      "\u001b[1m[\u001b[0m\u001b[34;49mnotice\u001b[0m\u001b[1;39;49m]\u001b[0m\u001b[39;49m To update, run: \u001b[0m\u001b[32;49mpython3 -m pip install --upgrade pip\u001b[0m\n"
     ]
    }
   ],
   "source": [
    "!pip install peft\n"
   ]
  },
  {
   "cell_type": "code",
   "execution_count": 5,
   "id": "4424e2cc-411d-47b4-b7eb-08fb33777719",
   "metadata": {},
   "outputs": [
    {
     "name": "stderr",
     "output_type": "stream",
     "text": [
      "2024-05-12 21:53:48.403625: I tensorflow/core/util/port.cc:113] oneDNN custom operations are on. You may see slightly different numerical results due to floating-point round-off errors from different computation orders. To turn them off, set the environment variable `TF_ENABLE_ONEDNN_OPTS=0`.\n",
      "2024-05-12 21:53:48.425145: E external/local_xla/xla/stream_executor/cuda/cuda_dnn.cc:9261] Unable to register cuDNN factory: Attempting to register factory for plugin cuDNN when one has already been registered\n",
      "2024-05-12 21:53:48.425164: E external/local_xla/xla/stream_executor/cuda/cuda_fft.cc:607] Unable to register cuFFT factory: Attempting to register factory for plugin cuFFT when one has already been registered\n",
      "2024-05-12 21:53:48.425937: E external/local_xla/xla/stream_executor/cuda/cuda_blas.cc:1515] Unable to register cuBLAS factory: Attempting to register factory for plugin cuBLAS when one has already been registered\n",
      "2024-05-12 21:53:48.430573: I tensorflow/core/platform/cpu_feature_guard.cc:182] This TensorFlow binary is optimized to use available CPU instructions in performance-critical operations.\n",
      "To enable the following instructions: AVX2 AVX512F AVX512_VNNI AVX512_BF16 FMA, in other operations, rebuild TensorFlow with the appropriate compiler flags.\n"
     ]
    }
   ],
   "source": [
    "import os\n",
    "import torch\n",
    "from datasets import load_dataset\n",
    "from transformers import (\n",
    "    AutoModelForCausalLM,\n",
    "    AutoTokenizer,\n",
    "    BitsAndBytesConfig,\n",
    "    HfArgumentParser,\n",
    "    TrainingArguments,\n",
    "    pipeline,\n",
    "    logging,\n",
    ")\n",
    "from peft import LoraConfig, TaskType, get_peft_model\n",
    "from trl import SFTTrainer\n",
    "import warnings\n",
    "warnings.filterwarnings('ignore')"
   ]
  },
  {
   "cell_type": "code",
   "execution_count": 6,
   "id": "1f966b20-a80a-4dba-bf2b-37ddd8fb3b57",
   "metadata": {},
   "outputs": [],
   "source": [
    "model_name = \"NousResearch/Llama-2-7b-chat-hf\"\n",
    "\n",
    "# The instruction dataset to use\n",
    "dataset_name = \"mlabonne/guanaco-llama2-1k\"\n",
    "\n",
    "# Fine-tuned model name\n",
    "new_model = \"Llama-2-7b-chat-finetune\"\n",
    "\n",
    "################################################################################\n",
    "# QLoRA parameters\n",
    "################################################################################\n",
    "\n",
    "# LoRA attention dimension\n",
    "lora_r = 64\n",
    "\n",
    "# Alpha parameter for LoRA scaling\n",
    "lora_alpha = 16\n",
    "\n",
    "# Dropout probability for LoRA layers\n",
    "lora_dropout = 0.1\n",
    "\n",
    "################################################################################\n",
    "# bitsandbytes parameters\n",
    "################################################################################\n",
    "\n",
    "# Activate 4-bit precision base model loading\n",
    "use_4bit = True\n",
    "\n",
    "# Compute dtype for 4-bit base models\n",
    "bnb_4bit_compute_dtype = \"float16\"\n",
    "\n",
    "# Quantization type (fp4 or nf4)\n",
    "bnb_4bit_quant_type = \"nf4\"\n",
    "\n",
    "# Activate nested quantization for 4-bit base models (double quantization)\n",
    "use_nested_quant = False\n",
    "\n",
    "################################################################################\n",
    "# TrainingArguments parameters\n",
    "################################################################################\n",
    "\n",
    "# Output directory where the model predictions and checkpoints will be stored\n",
    "output_dir = \"./results\"\n",
    "\n",
    "# Number of training epochs\n",
    "num_train_epochs = 2\n",
    "\n",
    "# Enable fp16/bf16 training (set bf16 to True with an A100)\n",
    "fp16 = False\n",
    "bf16 = False\n",
    "\n",
    "# Batch size per GPU for training\n",
    "per_device_train_batch_size = 4\n",
    "\n",
    "# Batch size per GPU for evaluation\n",
    "per_device_eval_batch_size = 4\n",
    "\n",
    "# Number of update steps to accumulate the gradients for\n",
    "gradient_accumulation_steps = 1\n",
    "\n",
    "# Enable gradient checkpointing\n",
    "gradient_checkpointing = True\n",
    "\n",
    "# Maximum gradient normal (gradient clipping)\n",
    "max_grad_norm = 0.3\n",
    "\n",
    "# Initial learning rate (AdamW optimizer)\n",
    "learning_rate = 2e-4\n",
    "\n",
    "# Weight decay to apply to all layers except bias/LayerNorm weights\n",
    "weight_decay = 0.001\n",
    "\n",
    "# Optimizer to use\n",
    "optim = \"paged_adamw_32bit\"\n",
    "\n",
    "# Learning rate schedule\n",
    "lr_scheduler_type = \"cosine\"\n",
    "\n",
    "# Number of training steps (overrides num_train_epochs)\n",
    "max_steps = -1\n",
    "\n",
    "# Ratio of steps for a linear warmup (from 0 to learning rate)\n",
    "warmup_ratio = 0.03\n",
    "\n",
    "# Group sequences into batches with same length\n",
    "# Saves memory and speeds up training considerably\n",
    "group_by_length = True\n",
    "\n",
    "# Save checkpoint every X updates steps\n",
    "save_steps = 0\n",
    "\n",
    "# Log every X updates steps\n",
    "logging_steps = 25\n",
    "\n",
    "################################################################################\n",
    "# SFT parameters\n",
    "################################################################################\n",
    "\n",
    "# Maximum sequence length to use\n",
    "max_seq_length = None\n",
    "\n",
    "# Pack multiple short examples in the same input sequence to increase efficiency\n",
    "packing = False\n",
    "\n",
    "# Load the entire model on the GPU 0\n",
    "device_map = {\"\": 0}"
   ]
  },
  {
   "cell_type": "code",
   "execution_count": 7,
   "id": "ffb1f8b7-8e1f-4f52-9ce4-d19ec102c319",
   "metadata": {},
   "outputs": [],
   "source": [
    "import pandas as pd\n",
    "file_path = \"QUestion_Answer_pairs.csv\"\n",
    "combined_df = pd.read_csv(file_path)\n",
    "\n",
    "\n",
    "# Define a list to store transformed data\n",
    "transformed_data = []\n",
    "combined_df\n",
    "\n",
    "# Define a function to transform each row\n",
    "def transform_conversation(row):\n",
    "    question_text = row['question']\n",
    "    answers_text = row['answer']\n",
    "\n",
    "    # Apply the new template and append to the list\n",
    "    transformed_data.append({'text': f'<s>[INST] {question_text} [/INST] {answers_text} </s>'})\n",
    "\n",
    "# Apply the transformation to each row\n",
    "_ = combined_df.apply(transform_conversation, axis=1)\n",
    "\n",
    "# Convert the list of dictionaries to a DataFrame\n",
    "transformed_df = pd.DataFrame(transformed_data)\n",
    "\n",
    "from datasets import Dataset\n",
    "# Create a Dataset object with the DataFrame\n",
    "dataset = Dataset.from_pandas(transformed_df)\n"
   ]
  },
  {
   "cell_type": "code",
   "execution_count": 8,
   "id": "5149ff85-acc2-4f55-8acd-82fbb2d4f45e",
   "metadata": {},
   "outputs": [],
   "source": [
    "from sklearn.model_selection import train_test_split\n",
    "\n",
    "# Assuming transformed_dataset is a DataFrame\n",
    "transformed_train_df, transformed_test_val_df = train_test_split(transformed_df, test_size=0.3, random_state=42)\n",
    "transformed_val_df, transformed_test_df = train_test_split(transformed_test_val_df, test_size=0.5, random_state=42)\n",
    "\n",
    "from datasets import Dataset\n",
    "# Create a Dataset object with the DataFrame\n",
    "\n",
    "transformed_train_dataset = Dataset.from_pandas(transformed_train_df)\n",
    "transformed_val_dataset = Dataset.from_pandas(transformed_val_df)"
   ]
  },
  {
   "cell_type": "code",
   "execution_count": null,
   "id": "41e0d2a4-80b1-4428-9f19-4a1470cb496d",
   "metadata": {},
   "outputs": [],
   "source": [
    "from sklearn.metrics import f1_score, roc_auc_score, accuracy_score\n",
    "from transformers import EvalPrediction\n",
    "import torch\n",
    "    \n",
    "# source: https://jesusleal.io/2021/04/21/Longformer-multilabel-classification/\n",
    "def multi_label_metrics(predictions, labels, threshold=0.5):\n",
    "    # first, apply sigmoid on predictions which are of shape (batch_size, num_labels)\n",
    "    sigmoid = torch.nn.Sigmoid()\n",
    "    probs = sigmoid(torch.Tensor(predictions))\n",
    "    # next, use threshold to turn them into integer predictions\n",
    "    y_pred = np.zeros(probs.shape)\n",
    "    y_pred[np.where(probs >= threshold)] = 1\n",
    "    # finally, compute metrics\n",
    "    y_true = labels\n",
    "    f1_micro_average = f1_score(y_true=y_true, y_pred=y_pred, average='micro')\n",
    "    roc_auc = roc_auc_score(y_true, y_pred, average = 'micro')\n",
    "    accuracy = accuracy_score(y_true, y_pred)\n",
    "    # return as dictionary\n",
    "    metrics = {'f1': f1_micro_average,\n",
    "               'roc_auc': roc_auc,\n",
    "               'accuracy': accuracy}\n",
    "    return metrics\n",
    "\n",
    "def compute_metrics(p: EvalPrediction):\n",
    "    preds = p.predictions[0] if isinstance(p.predictions, \n",
    "            tuple) else p.predictions\n",
    "    result = multi_label_metrics(\n",
    "        predictions=preds, \n",
    "        labels=p.label_ids)\n",
    "    return result"
   ]
  },
  {
   "cell_type": "code",
   "execution_count": null,
   "id": "a5ea9fb3-0f2f-45ea-9473-9db5a0155b96",
   "metadata": {},
   "outputs": [
    {
     "name": "stdout",
     "output_type": "stream",
     "text": [
      "================================================================================\n",
      "Your GPU supports bfloat16: accelerate training with bf16=True\n",
      "================================================================================\n"
     ]
    },
    {
     "data": {
      "application/vnd.jupyter.widget-view+json": {
       "model_id": "2fa7599902924112a89b0c9861dc50e1",
       "version_major": 2,
       "version_minor": 0
      },
      "text/plain": [
       "Loading checkpoint shards:   0%|          | 0/2 [00:00<?, ?it/s]"
      ]
     },
     "metadata": {},
     "output_type": "display_data"
    },
    {
     "data": {
      "application/vnd.jupyter.widget-view+json": {
       "model_id": "",
       "version_major": 2,
       "version_minor": 0
      },
      "text/plain": [
       "Map:   0%|          | 0/5225 [00:00<?, ? examples/s]"
      ]
     },
     "metadata": {},
     "output_type": "display_data"
    },
    {
     "data": {
      "application/vnd.jupyter.widget-view+json": {
       "model_id": "",
       "version_major": 2,
       "version_minor": 0
      },
      "text/plain": [
       "Map:   0%|          | 0/1120 [00:00<?, ? examples/s]"
      ]
     },
     "metadata": {},
     "output_type": "display_data"
    },
    {
     "name": "stderr",
     "output_type": "stream",
     "text": [
      "\u001b[34m\u001b[1mwandb\u001b[0m: Currently logged in as: \u001b[33mpavanvicky2015\u001b[0m (\u001b[33msjsuedu\u001b[0m). Use \u001b[1m`wandb login --relogin`\u001b[0m to force relogin\n"
     ]
    },
    {
     "data": {
      "text/html": [
       "wandb version 0.17.0 is available!  To upgrade, please run:\n",
       " $ pip install wandb --upgrade"
      ],
      "text/plain": [
       "<IPython.core.display.HTML object>"
      ]
     },
     "metadata": {},
     "output_type": "display_data"
    },
    {
     "data": {
      "text/html": [
       "Tracking run with wandb version 0.15.3"
      ],
      "text/plain": [
       "<IPython.core.display.HTML object>"
      ]
     },
     "metadata": {},
     "output_type": "display_data"
    },
    {
     "data": {
      "text/html": [
       "Run data is saved locally in <code>/app/wandb/run-20240512_215355-75a2q241</code>"
      ],
      "text/plain": [
       "<IPython.core.display.HTML object>"
      ]
     },
     "metadata": {},
     "output_type": "display_data"
    },
    {
     "data": {
      "text/html": [
       "Syncing run <strong><a href='https://wandb.ai/sjsuedu/huggingface/runs/75a2q241' target=\"_blank\">misunderstood-donkey-29</a></strong> to <a href='https://wandb.ai/sjsuedu/huggingface' target=\"_blank\">Weights & Biases</a> (<a href='https://wandb.me/run' target=\"_blank\">docs</a>)<br/>"
      ],
      "text/plain": [
       "<IPython.core.display.HTML object>"
      ]
     },
     "metadata": {},
     "output_type": "display_data"
    },
    {
     "data": {
      "text/html": [
       " View project at <a href='https://wandb.ai/sjsuedu/huggingface' target=\"_blank\">https://wandb.ai/sjsuedu/huggingface</a>"
      ],
      "text/plain": [
       "<IPython.core.display.HTML object>"
      ]
     },
     "metadata": {},
     "output_type": "display_data"
    },
    {
     "data": {
      "text/html": [
       " View run at <a href='https://wandb.ai/sjsuedu/huggingface/runs/75a2q241' target=\"_blank\">https://wandb.ai/sjsuedu/huggingface/runs/75a2q241</a>"
      ],
      "text/plain": [
       "<IPython.core.display.HTML object>"
      ]
     },
     "metadata": {},
     "output_type": "display_data"
    },
    {
     "name": "stderr",
     "output_type": "stream",
     "text": [
      "You're using a LlamaTokenizerFast tokenizer. Please note that with a fast tokenizer, using the `__call__` method is faster than using a method to encode the text followed by a call to the `pad` method to get a padded encoding.\n"
     ]
    },
    {
     "data": {
      "text/html": [
       "\n",
       "    <div>\n",
       "      \n",
       "      <progress value='51' max='2614' style='width:300px; height:20px; vertical-align: middle;'></progress>\n",
       "      [  51/2614 10:44 < 9:21:44, 0.08 it/s, Epoch 0.04/2]\n",
       "    </div>\n",
       "    <table border=\"1\" class=\"dataframe\">\n",
       "  <thead>\n",
       " <tr style=\"text-align: left;\">\n",
       "      <th>Step</th>\n",
       "      <th>Training Loss</th>\n",
       "      <th>Validation Loss</th>\n",
       "    </tr>\n",
       "  </thead>\n",
       "  <tbody>\n",
       "    <tr>\n",
       "      <td>25</td>\n",
       "      <td>4.484200</td>\n",
       "      <td>4.347180</td>\n",
       "    </tr>\n",
       "  </tbody>\n",
       "</table><p>\n",
       "    <div>\n",
       "      \n",
       "      <progress value='49' max='140' style='width:300px; height:20px; vertical-align: middle;'></progress>\n",
       "      [ 49/140 03:23 < 06:26, 0.24 it/s]\n",
       "    </div>\n",
       "    "
      ],
      "text/plain": [
       "<IPython.core.display.HTML object>"
      ]
     },
     "metadata": {},
     "output_type": "display_data"
    }
   ],
   "source": [
    "# dataset = load_dataset(dataset_name, split=\"train\")\n",
    "\n",
    "# Load tokenizer and model with QLoRA configuration\n",
    "compute_dtype = getattr(torch, bnb_4bit_compute_dtype)\n",
    "\n",
    "bnb_config = BitsAndBytesConfig(\n",
    "    load_in_4bit=use_4bit,\n",
    "    bnb_4bit_quant_type=bnb_4bit_quant_type,\n",
    "    bnb_4bit_compute_dtype=compute_dtype,\n",
    "    bnb_4bit_use_double_quant=use_nested_quant,\n",
    ")\n",
    "\n",
    "# Check GPU compatibility with bfloat16\n",
    "if compute_dtype == torch.float16 and use_4bit:\n",
    "    major, _ = torch.cuda.get_device_capability()\n",
    "    if major >= 8:\n",
    "        print(\"=\" * 80)\n",
    "        print(\"Your GPU supports bfloat16: accelerate training with bf16=True\")\n",
    "        print(\"=\" * 80)\n",
    "\n",
    "# Load base model\n",
    "model = AutoModelForCausalLM.from_pretrained(\n",
    "    model_name,\n",
    "    quantization_config=bnb_config,\n",
    "    device_map=device_map\n",
    ")\n",
    "model.config.use_cache = False\n",
    "model.config.pretraining_tp = 1\n",
    "\n",
    "# Load LLaMA tokenizer\n",
    "tokenizer = AutoTokenizer.from_pretrained(model_name, trust_remote_code=True)\n",
    "tokenizer.pad_token = tokenizer.eos_token\n",
    "tokenizer.padding_side = \"right\" # Fix weird overflow issue with fp16 training\n",
    "\n",
    "# Load LoRA configuration\n",
    "peft_config = LoraConfig(\n",
    "    lora_alpha=lora_alpha,\n",
    "    lora_dropout=lora_dropout,\n",
    "    r=lora_r,\n",
    "    bias=\"none\",\n",
    "    task_type=\"CAUSAL_LM\",\n",
    ")\n",
    "\n",
    "# Set training parameters\n",
    "training_arguments = TrainingArguments(\n",
    "    output_dir=output_dir,\n",
    "    num_train_epochs=num_train_epochs,\n",
    "    per_device_train_batch_size=per_device_train_batch_size,\n",
    "    gradient_accumulation_steps=gradient_accumulation_steps,\n",
    "    optim=optim,\n",
    "    save_steps=save_steps,\n",
    "    evaluation_strategy=\"steps\",  # Evaluate every 'logging_steps', could also be \"epoch\"\n",
    "    eval_steps=logging_steps,  \n",
    "    logging_steps=logging_steps,\n",
    "    learning_rate=learning_rate,\n",
    "    weight_decay=weight_decay,\n",
    "    fp16=fp16,\n",
    "    bf16=bf16,\n",
    "    max_grad_norm=max_grad_norm,\n",
    "    max_steps=max_steps,\n",
    "    warmup_ratio=warmup_ratio,\n",
    "    group_by_length=group_by_length,\n",
    "    lr_scheduler_type=lr_scheduler_type,\n",
    "    # report_to=\"tensorboard\"\n",
    ")\n",
    "\n",
    "# Set supervised fine-tuning parameters\n",
    "trainer = SFTTrainer(\n",
    "    model=model,\n",
    "    train_dataset=transformed_train_dataset,\n",
    "    eval_dataset=transformed_val_dataset,\n",
    "    peft_config=peft_config,\n",
    "    dataset_text_field=\"text\",\n",
    "    max_seq_length=max_seq_length,\n",
    "    tokenizer=tokenizer,\n",
    "    args=training_arguments,\n",
    "    packing=packing,\n",
    "    compute_metrics=compute_metrics\n",
    ")\n",
    "\n",
    "# Train model\n",
    "trainer.train()"
   ]
  },
  {
   "cell_type": "code",
   "execution_count": null,
   "id": "d2f9d137-5beb-458c-bae3-cbaeb3108a9c",
   "metadata": {},
   "outputs": [],
   "source": [
    "import wandb\n",
    "wandb.finish()\n",
    "trainer.model.save_pretrained(\"Llama2_7B_PEFT_final_2\")"
   ]
  },
  {
   "cell_type": "code",
   "execution_count": null,
   "id": "2309696d-997d-41f4-87a4-8cd17abba811",
   "metadata": {},
   "outputs": [],
   "source": [
    "from peft import LoraConfig, PeftModel\n",
    "# Reload model in FP16 and merge it with LoRA weights\n",
    "base_model = AutoModelForCausalLM.from_pretrained(\n",
    "    model_name,\n",
    "    low_cpu_mem_usage=True,\n",
    "    return_dict=True,\n",
    "    torch_dtype=torch.float16,\n",
    "    device_map=device_map,\n",
    ")\n",
    "model = PeftModel.from_pretrained(base_model, \"Llama2_7B_PEFT_final\")\n",
    "model = model.merge_and_unload()\n",
    "\n",
    "# Reload tokenizer to save it\n",
    "tokenizer = AutoTokenizer.from_pretrained(model_name, trust_remote_code=True)\n",
    "tokenizer.pad_token = tokenizer.eos_token\n",
    "tokenizer.padding_side = \"right\""
   ]
  },
  {
   "cell_type": "code",
   "execution_count": null,
   "id": "e699ea34-df18-4a67-be1c-ce8f265e6e6f",
   "metadata": {},
   "outputs": [],
   "source": []
  },
  {
   "cell_type": "code",
   "execution_count": null,
   "id": "4a92389c-e3d5-4d8e-8c97-79f5ffa6a400",
   "metadata": {},
   "outputs": [],
   "source": []
  },
  {
   "cell_type": "code",
   "execution_count": null,
   "id": "0bb66ea8-7478-4f95-94e1-cc33c46ef91b",
   "metadata": {},
   "outputs": [],
   "source": []
  },
  {
   "cell_type": "code",
   "execution_count": null,
   "id": "87291167-5a84-4e14-bfde-30b4237b3529",
   "metadata": {},
   "outputs": [],
   "source": [
    "pavanvicky1998/Group5_NewsChatBot"
   ]
  },
  {
   "cell_type": "code",
   "execution_count": null,
   "id": "83626da6-1c4b-41e1-b0ba-3618e72ecfe6",
   "metadata": {},
   "outputs": [],
   "source": [
    "from transformers import AutoModel\n",
    "\n",
    "model = AutoModel.from_pretrained(\"google-bert/bert-base-cased\")\n",
    "\n",
    "# Push the model to your namespace with the name \"my-finetuned-bert\".\n",
    "model.push_to_hub(\"my-finetuned-bert\")\n",
    "\n",
    "# Push the model to an organization with the name \"my-finetuned-bert\".\n",
    "model.push_to_hub(\"huggingface/my-finetuned-bert\")"
   ]
  },
  {
   "cell_type": "code",
   "execution_count": null,
   "id": "08762d6c-4d79-49a3-8117-2ee9bb13f7aa",
   "metadata": {},
   "outputs": [],
   "source": []
  },
  {
   "cell_type": "code",
   "execution_count": null,
   "id": "263f3e95-a6e9-4a5e-9af0-a5a2ce3bf067",
   "metadata": {},
   "outputs": [],
   "source": [
    "import locale\n",
    "locale.getpreferredencoding = lambda: \"UTF-8\""
   ]
  },
  {
   "cell_type": "code",
   "execution_count": null,
   "id": "5e88ec58-b43e-4a4d-87b6-dfdf29bc2d33",
   "metadata": {},
   "outputs": [],
   "source": [
    "from huggingface_hub import notebook_login\n",
    "notebook_login()"
   ]
  },
  {
   "cell_type": "code",
   "execution_count": null,
   "id": "794011e8-fdaf-451f-af4b-0f711a041cc5",
   "metadata": {},
   "outputs": [],
   "source": [
    "from huggingface_hub import create_repo\n",
    "create_repo(\"group5_newsdata\", private = False)"
   ]
  },
  {
   "cell_type": "code",
   "execution_count": null,
   "id": "dbcc5615-26e5-403e-9c94-90fb0caf3017",
   "metadata": {},
   "outputs": [],
   "source": [
    "model.push_to_hub(\"group5\", check_pr=True)\n",
    "\n",
    "tokenizer.push_to_hub(\"group5\",check_pr=True)"
   ]
  },
  {
   "cell_type": "code",
   "execution_count": null,
   "id": "8f57dbfd-26d6-4af4-b806-1e51d4ffa92f",
   "metadata": {},
   "outputs": [],
   "source": [
    "from huggingface_hub import Repository\n",
    "\n",
    "# Create a repository object for the destination repository\n",
    "repo = Repository(\"group5_newsdata\")\n",
    "\n",
    "# Push your model to the repository\n",
    "# repo.push(\"Llama2_7B_PEFT_final\")\n"
   ]
  },
  {
   "cell_type": "code",
   "execution_count": null,
   "id": "30729203-c5bb-474c-9f08-446b23fd87be",
   "metadata": {},
   "outputs": [],
   "source": [
    "from huggingface_hub import Repository, get_full_repo_name\n",
    "\n",
    "model_name = \"Llama2_7B_PEFT_final\"\n",
    "repo_name = get_full_repo_name(model_name)\n",
    "repo_name"
   ]
  },
  {
   "cell_type": "code",
   "execution_count": null,
   "id": "cc724e8c-179d-4e42-9d5c-4d1cf09acfda",
   "metadata": {},
   "outputs": [],
   "source": [
    "output_dir = \"Llama2_7B_PEFT_final\"\n",
    "repo = Repository(output_dir, clone_from=repo_name)"
   ]
  },
  {
   "cell_type": "code",
   "execution_count": null,
   "id": "baab3ff5-16cf-42df-b73f-34875ce88e79",
   "metadata": {},
   "outputs": [],
   "source": []
  }
 ],
 "metadata": {
  "kernelspec": {
   "display_name": "Python 3 (ipykernel)",
   "language": "python",
   "name": "python3"
  },
  "language_info": {
   "codemirror_mode": {
    "name": "ipython",
    "version": 3
   },
   "file_extension": ".py",
   "mimetype": "text/x-python",
   "name": "python",
   "nbconvert_exporter": "python",
   "pygments_lexer": "ipython3",
   "version": "3.11.0rc1"
  }
 },
 "nbformat": 4,
 "nbformat_minor": 5
}
